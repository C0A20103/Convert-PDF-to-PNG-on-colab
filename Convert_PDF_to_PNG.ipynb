{
  "nbformat": 4,
  "nbformat_minor": 0,
  "metadata": {
    "colab": {
      "name": "Convert_PDF_to_PNG.ipynb",
      "provenance": [],
      "collapsed_sections": []
    },
    "kernelspec": {
      "display_name": "Python 3",
      "name": "python3"
    }
  },
  "cells": [
    {
      "cell_type": "markdown",
      "metadata": {
      },
      "source": [
        "# ↓Let's press the play button below to run it!"
      ]
    },
    {
      "cell_type": "code",
      "metadata": {
        "cellView": "form"
      },
      "source": [
        "#@markdown # Convert PDF to PNG\n",
        "#@markdown ## Setting\n",
        "#@markdown Please select the image format.\n",
        "extension = 'JPEG' #@param [\"JPEG\", \"PNG\"]\n",
        "#@markdown Please enter the DPI.\n",
        "dpi = 200 #@param {type:\"slider\", min:100, max:500, step:10}\n",
        "\n",
        "print('Loading...')\n",
        "!apt install poppler-utils &> /dev/null\n",
        "!pip install pdf2image tqdm &> /dev/null\n",
        "\n",
        "import os\n",
        "import shutil\n",
        "import zipfile\n",
        "from time import time\n",
        "\n",
        "from google.colab import files\n",
        "from IPython.display import Image, display\n",
        "from pdf2image import convert_from_bytes, convert_from_path\n",
        "from tqdm import tqdm\n",
        "\n",
        "print('\\nPlease upload PDF files.')\n",
        "uploaded = files.upload()\n",
        "\n",
        "for fn in uploaded.keys():\n",
        "    print(f'Converting {fn}...')\n",
        "    currentDir = f'tmp_{int(time()*1000)}'\n",
        "    os.makedirs(currentDir, exist_ok=True)\n",
        "    pdfDir = os.path.join(currentDir, fn)\n",
        "    shutil.move(fn, pdfDir)\n",
        "    if(pdfDir.lower()[-4:] != '.pdf'):\n",
        "        print(f'{fn} is not PDF file!')\n",
        "        continue\n",
        "    images = convert_from_bytes(uploaded[fn], dpi=dpi, thread_count=os.cpu_count())\n",
        "    zipDir = os.path.join(currentDir, f'{fn[:-4]}.zip')\n",
        "    with zipfile.ZipFile(zipDir, 'w', compression=zipfile.ZIP_DEFLATED) as new_zip:\n",
        "        with tqdm(images, unit='p') as pbar:\n",
        "            for number, page in enumerate(pbar, 1):\n",
        "                name = f'{fn[:-4]}_{number}.{extension.lower()}'\n",
        "                name = os.path.join(currentDir, name)\n",
        "                page.save(name, extension)\n",
        "                new_zip.write(name, arcname=os.path.basename(name))\n",
        "                pbar.set_postfix_str(f'{os.path.getsize(zipDir):,} bytes')\n",
        "    print('Convert completed.', 'The download will start...', sep='\\n')\n",
        "    files.download(zipDir)\n",
        "print('Finished.')"
      ],
      "execution_count": null,
      "outputs": []
    }
  ]
}