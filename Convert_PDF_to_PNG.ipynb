{
 "cells": [
  {
   "cell_type": "markdown",
   "metadata": {},
   "source": [
    "# Let's press the play button below to run it!"
   ]
  },
  {
   "cell_type": "code",
   "execution_count": null,
   "metadata": {},
   "outputs": [],
   "source": [
    "print(\"Loading...\")\n",
    "!apt-get install poppler-utils &> /dev/null\n",
    "!pip install pdf2image &> /dev/null\n",
    "\n",
    "import os\n",
    "import zipfile\n",
    "\n",
    "from pdf2image import convert_from_path, convert_from_bytes\n",
    "from IPython.display import display, Image\n",
    "from google.colab import files\n",
    "\n",
    "print(\"\\nPlease upload PDF files.\")\n",
    "uploaded = files.upload()\n",
    "for fn in uploaded.keys():\n",
    "    print(\"\")\n",
    "    if(fn.lower()[-4:] != \".pdf\"):\n",
    "        print(f\"{fn} is not PDF file!\")\n",
    "        continue\n",
    "    images = convert_from_bytes(uploaded[fn], size=800)\n",
    "    with zipfile.ZipFile(f\"{fn[:-4]}.zip\", \"w\", compression=zipfile.ZIP_DEFLATED) as new_zip:\n",
    "        for i, page in enumerate(images):\n",
    "            name = f\"{fn[:-4]}_{i+1}.png\"\n",
    "            page.save(name, \"PNG\")\n",
    "            new_zip.write(name, arcname=name)\n",
    "            print(f\"{fn} p.{i+1} > {name}\")\n",
    "    print(\"Convert completed.\\nThe download will start...\")\n",
    "    files.download(f\"{fn[:-4]}.zip\")\n",
    "print(\"\\nFinished.\")"
   ]
  }
 ],
 "metadata": {
  "kernelspec": {
   "display_name": "Python 3",
   "language": "python",
   "name": "python3"
  },
  "language_info": {
   "codemirror_mode": {
    "name": "ipython",
    "version": 3
   },
   "file_extension": ".py",
   "mimetype": "text/x-python",
   "name": "python",
   "nbconvert_exporter": "python",
   "pygments_lexer": "ipython3",
   "version": "3.6.9"
  }
 },
 "nbformat": 4,
 "nbformat_minor": 4
}
